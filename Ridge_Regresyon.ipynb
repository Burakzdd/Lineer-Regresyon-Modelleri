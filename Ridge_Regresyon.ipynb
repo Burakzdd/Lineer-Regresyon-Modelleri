{
  "nbformat": 4,
  "nbformat_minor": 0,
  "metadata": {
    "colab": {
      "name": "Ridge_Regresyon.ipynb",
      "provenance": []
    },
    "kernelspec": {
      "name": "python3",
      "display_name": "Python 3"
    },
    "language_info": {
      "name": "python"
    }
  },
  "cells": [
    {
      "cell_type": "markdown",
      "metadata": {
        "id": "no8GDBvAUFv9"
      },
      "source": [
        "#Ridge Regresyon"
      ]
    },
    {
      "cell_type": "markdown",
      "metadata": {
        "id": "ji6CNSU7OrJ2"
      },
      "source": [
        "Bu regresyon yönteminde amaç, hata kareler toplamını minimize eden katsayıları bu katsayılara bir ceza uygulayarak bulmaktır"
      ]
    },
    {
      "cell_type": "markdown",
      "metadata": {
        "id": "7488x2HuUFDX"
      },
      "source": [
        "##Model Oluşturma"
      ]
    },
    {
      "cell_type": "code",
      "metadata": {
        "id": "vOydtNplPbhV"
      },
      "source": [
        "import pandas as pd\n",
        "from sklearn.model_selection import train_test_split, cross_val_score, cross_val_predict\n",
        "import numpy as np\n",
        "import matplotlib.pyplot as plt\n",
        "from sklearn.metrics import mean_squared_error, r2_score"
      ],
      "execution_count": 17,
      "outputs": []
    },
    {
      "cell_type": "code",
      "metadata": {
        "id": "ltG-dPHoOqvE"
      },
      "source": [
        "hit = pd.read_csv(\"/content/Hitters.csv\")\n",
        "df = hit.copy()\n",
        "df = df.dropna()\n",
        "dms = pd.get_dummies(df[['League', 'Division', 'NewLeague']])\n",
        "y = df[\"Salary\"]\n",
        "X_ = df.drop(['Salary', 'League', 'Division', 'NewLeague'], axis=1).astype('float64')\n",
        "X = pd.concat([X_, dms[['League_N', 'Division_W', 'NewLeague_N']]], axis=1)\n",
        "X_train, X_test, y_train, y_test = train_test_split(X, y, \n",
        "                                                    test_size=0.25, \n",
        "                                                    random_state=42)"
      ],
      "execution_count": 5,
      "outputs": []
    },
    {
      "cell_type": "code",
      "metadata": {
        "id": "737zzk6UOHN1"
      },
      "source": [
        "from sklearn.linear_model import Ridge"
      ],
      "execution_count": 6,
      "outputs": []
    },
    {
      "cell_type": "code",
      "metadata": {
        "id": "ufwLlNjgQVn8"
      },
      "source": [
        "ridge_model = Ridge(alpha = 0.1).fit(X_train, y_train)"
      ],
      "execution_count": 7,
      "outputs": []
    },
    {
      "cell_type": "code",
      "metadata": {
        "colab": {
          "base_uri": "https://localhost:8080/"
        },
        "id": "nTBuxvMxQcQb",
        "outputId": "c2a72cd8-493e-49da-a8f8-a88d4d9ff5de"
      },
      "source": [
        "ridge_model"
      ],
      "execution_count": 8,
      "outputs": [
        {
          "output_type": "execute_result",
          "data": {
            "text/plain": [
              "Ridge(alpha=0.1, copy_X=True, fit_intercept=True, max_iter=None,\n",
              "      normalize=False, random_state=None, solver='auto', tol=0.001)"
            ]
          },
          "metadata": {},
          "execution_count": 8
        }
      ]
    },
    {
      "cell_type": "code",
      "metadata": {
        "colab": {
          "base_uri": "https://localhost:8080/"
        },
        "id": "NQBmmbtdQi_W",
        "outputId": "aa35a19a-536b-4c25-89ee-f538e7faa181"
      },
      "source": [
        "ridge_model.coef_"
      ],
      "execution_count": 9,
      "outputs": [
        {
          "output_type": "execute_result",
          "data": {
            "text/plain": [
              "array([ -1.77435737,   8.80240528,   7.29595605,  -3.33257639,\n",
              "        -2.08316481,   5.42531283,   7.58514945,  -0.13752764,\n",
              "        -0.20779701,  -0.60361067,   1.7927957 ,   0.72866408,\n",
              "        -0.68710375,   0.26153564,   0.26888652,  -0.52674278,\n",
              "       112.14640272, -99.80997876, -48.07152768])"
            ]
          },
          "metadata": {},
          "execution_count": 9
        }
      ]
    },
    {
      "cell_type": "code",
      "metadata": {
        "colab": {
          "base_uri": "https://localhost:8080/",
          "height": 300
        },
        "id": "t8MwiIkFQmoF",
        "outputId": "8b51b9d9-e8c2-4676-e8c9-a2efea7c69ab"
      },
      "source": [
        "lambdalar = 10**np.linspace(10,-2,100)*0.5 \n",
        "\n",
        "ridge_model = Ridge()\n",
        "katsayilar = []\n",
        "\n",
        "for i in lambdalar:\n",
        "    ridge_model.set_params(alpha = i)\n",
        "    ridge_model.fit(X_train, y_train) \n",
        "    katsayilar.append(ridge_model.coef_) \n",
        "    \n",
        "\n",
        "    \n",
        "ax = plt.gca()\n",
        "ax.plot(lambdalar, katsayilar) \n",
        "ax.set_xscale('log') \n",
        "\n",
        "plt.xlabel('Lambda(Alpha) Değerleri')\n",
        "plt.ylabel('Katsayılar/Ağırlıklar')\n",
        "plt.title('Düzenlileştirmenin Bir Fonksiyonu Olarak Ridge Katsayıları');"
      ],
      "execution_count": 14,
      "outputs": [
        {
          "output_type": "display_data",
          "data": {
            "image/png": "[encoded data removed]",
            "text/plain": [
              "<Figure size 432x288 with 1 Axes>"
            ]
          },
          "metadata": {
            "needs_background": "light"
          }
        }
      ]
    },
    {
      "cell_type": "markdown",
      "metadata": {
        "id": "64Q37LgCT-Kn"
      },
      "source": [
        "##Model tahmin"
      ]
    },
    {
      "cell_type": "code",
      "metadata": {
        "id": "Kmre83N9Qsad"
      },
      "source": [
        "#tahmin değerini bulma işlemi\n",
        "y_tahmin = ridge_model.predict(X_test)"
      ],
      "execution_count": 19,
      "outputs": []
    },
    {
      "cell_type": "code",
      "metadata": {
        "colab": {
          "base_uri": "https://localhost:8080/"
        },
        "id": "wItoH8MsSKwg",
        "outputId": "ceb2c723-eda9-42af-f88c-d10db615c859"
      },
      "source": [
        "np.sqrt(mean_squared_error(y_test, y_tahmin))"
      ],
      "execution_count": 20,
      "outputs": [
        {
          "output_type": "execute_result",
          "data": {
            "text/plain": [
              "357.05179222828434"
            ]
          },
          "metadata": {},
          "execution_count": 20
        }
      ]
    },
    {
      "cell_type": "markdown",
      "metadata": {
        "id": "vbjLARGJT7Ri"
      },
      "source": [
        "##Model Ayarlama"
      ]
    },
    {
      "cell_type": "code",
      "metadata": {
        "id": "_N3G-0jnSOV5"
      },
      "source": [
        "lambdalar = 10**np.linspace(10,-2,100)*0.5"
      ],
      "execution_count": 21,
      "outputs": []
    },
    {
      "cell_type": "code",
      "metadata": {
        "colab": {
          "base_uri": "https://localhost:8080/"
        },
        "id": "ELIXLniPSqtS",
        "outputId": "6746d830-9955-4eb2-a0b7-3b7051350e66"
      },
      "source": [
        "lambdalar[0:5]"
      ],
      "execution_count": 22,
      "outputs": [
        {
          "output_type": "execute_result",
          "data": {
            "text/plain": [
              "array([5.00000000e+09, 3.78231664e+09, 2.86118383e+09, 2.16438064e+09,\n",
              "       1.63727458e+09])"
            ]
          },
          "metadata": {},
          "execution_count": 22
        }
      ]
    },
    {
      "cell_type": "code",
      "metadata": {
        "id": "WgcQcc9nSslk"
      },
      "source": [
        "from sklearn.linear_model import RidgeCV\n",
        "ridge_cv = RidgeCV(alphas = lambdalar, \n",
        "                   scoring = \"neg_mean_squared_error\",\n",
        "                   normalize = True)"
      ],
      "execution_count": 23,
      "outputs": []
    },
    {
      "cell_type": "code",
      "metadata": {
        "colab": {
          "base_uri": "https://localhost:8080/"
        },
        "id": "uqjwQ4hVS345",
        "outputId": "743b8e95-427b-4455-a554-59addb2d39c8"
      },
      "source": [
        "ridge_cv.fit(X_train, y_train)"
      ],
      "execution_count": 24,
      "outputs": [
        {
          "output_type": "execute_result",
          "data": {
            "text/plain": [
              "RidgeCV(alphas=array([5.00000000e+09, 3.78231664e+09, 2.86118383e+09, 2.16438064e+09,\n",
              "       1.63727458e+09, 1.23853818e+09, 9.36908711e+08, 7.08737081e+08,\n",
              "       5.36133611e+08, 4.05565415e+08, 3.06795364e+08, 2.32079442e+08,\n",
              "       1.75559587e+08, 1.32804389e+08, 1.00461650e+08, 7.59955541e+07,\n",
              "       5.74878498e+07, 4.34874501e+07, 3.28966612e+07, 2.48851178e+07,\n",
              "       1.88246790e+07, 1.42401793e+0...\n",
              "       3.28966612e-01, 2.48851178e-01, 1.88246790e-01, 1.42401793e-01,\n",
              "       1.07721735e-01, 8.14875417e-02, 6.16423370e-02, 4.66301673e-02,\n",
              "       3.52740116e-02, 2.66834962e-02, 2.01850863e-02, 1.52692775e-02,\n",
              "       1.15506485e-02, 8.73764200e-03, 6.60970574e-03, 5.00000000e-03]),\n",
              "        cv=None, fit_intercept=True, gcv_mode=None, normalize=True,\n",
              "        scoring='neg_mean_squared_error', store_cv_values=False)"
            ]
          },
          "metadata": {},
          "execution_count": 24
        }
      ]
    },
    {
      "cell_type": "code",
      "metadata": {
        "colab": {
          "base_uri": "https://localhost:8080/"
        },
        "id": "akjNB_ZuS_WC",
        "outputId": "391e2cbf-046b-49de-9384-0bfed3e38ebd"
      },
      "source": [
        "ridge_cv.alpha_"
      ],
      "execution_count": 25,
      "outputs": [
        {
          "output_type": "execute_result",
          "data": {
            "text/plain": [
              "0.7599555414764666"
            ]
          },
          "metadata": {},
          "execution_count": 25
        }
      ]
    },
    {
      "cell_type": "code",
      "metadata": {
        "id": "YPbmPUKwTBWZ"
      },
      "source": [
        "ridge_tuned = Ridge(alpha = ridge_cv.alpha_, \n",
        "                   normalize = True).fit(X_train,y_train)"
      ],
      "execution_count": 26,
      "outputs": []
    },
    {
      "cell_type": "code",
      "metadata": {
        "colab": {
          "base_uri": "https://localhost:8080/"
        },
        "id": "ZLb1QexiTCwp",
        "outputId": "150c33a8-fcd7-4be4-93e8-bfcbe597105a"
      },
      "source": [
        "np.sqrt(mean_squared_error(y_test, ridge_tuned.predict(X_test)))"
      ],
      "execution_count": 27,
      "outputs": [
        {
          "output_type": "execute_result",
          "data": {
            "text/plain": [
              "386.6826429756415"
            ]
          },
          "metadata": {},
          "execution_count": 27
        }
      ]
    }
  ]
}