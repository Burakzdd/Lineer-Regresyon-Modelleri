{
  "nbformat": 4,
  "nbformat_minor": 0,
  "metadata": {
    "colab": {
      "name": "ElasticNet_Regresyonu.ipynb",
      "provenance": []
    },
    "kernelspec": {
      "name": "python3",
      "display_name": "Python 3"
    },
    "language_info": {
      "name": "python"
    }
  },
  "cells": [
    {
      "cell_type": "markdown",
      "metadata": {
        "id": "9ZYcwE6iXvTG"
      },
      "source": [
        "#ElasticNet (ENet) Regresyonu"
      ]
    },
    {
      "cell_type": "markdown",
      "metadata": {
        "id": "h-OBg4c9X1ri"
      },
      "source": [
        "Amaç hata kareler toplamını minmize eden katsayıları bu katsayılara bir ceza uygulayarak bulmaktır."
      ]
    },
    {
      "cell_type": "code",
      "metadata": {
        "id": "sypgw3XVXnzo"
      },
      "source": [
        "import pandas as pd\n",
        "from sklearn.model_selection import train_test_split, cross_val_score, cross_val_predict\n",
        "import numpy as np\n",
        "import matplotlib.pyplot as plt\n",
        "from sklearn.metrics import mean_squared_error, r2_score\n",
        "from sklearn.linear_model import ElasticNet"
      ],
      "execution_count": 2,
      "outputs": []
    },
    {
      "cell_type": "code",
      "metadata": {
        "id": "B13osuQuXtEq"
      },
      "source": [
        "hit = pd.read_csv(\"/content/Hitters.csv\")\n",
        "df = hit.copy()\n",
        "df = df.dropna()\n",
        "dms = pd.get_dummies(df[['League', 'Division', 'NewLeague']])\n",
        "y = df[\"Salary\"]\n",
        "X_ = df.drop(['Salary', 'League', 'Division', 'NewLeague'], axis=1).astype('float64')\n",
        "X = pd.concat([X_, dms[['League_N', 'Division_W', 'NewLeague_N']]], axis=1)\n",
        "X_train, X_test, y_train, y_test = train_test_split(X, y, \n",
        "                                                    test_size=0.25, \n",
        "                                                    random_state=42)"
      ],
      "execution_count": 3,
      "outputs": []
    },
    {
      "cell_type": "code",
      "metadata": {
        "colab": {
          "base_uri": "https://localhost:8080/"
        },
        "id": "w8vMTqjzYY_M",
        "outputId": "32ca8332-b894-4109-848e-4d2b76a4b54f"
      },
      "source": [
        "enet_model = ElasticNet().fit(X_train, y_train)"
      ],
      "execution_count": 4,
      "outputs": [
        {
          "output_type": "stream",
          "text": [
            "/usr/local/lib/python3.7/dist-packages/sklearn/linear_model/_coordinate_descent.py:476: ConvergenceWarning: Objective did not converge. You might want to increase the number of iterations. Duality gap: 8487984.799367338, tolerance: 3898.6869563806586\n",
            "  positive)\n"
          ],
          "name": "stderr"
        }
      ]
    },
    {
      "cell_type": "code",
      "metadata": {
        "colab": {
          "base_uri": "https://localhost:8080/"
        },
        "id": "NNQqXcTrYgLs",
        "outputId": "cb517e05-947f-44e0-f895-cc4be51d313b"
      },
      "source": [
        "enet_model.coef_"
      ],
      "execution_count": 5,
      "outputs": [
        {
          "output_type": "execute_result",
          "data": {
            "text/plain": [
              "array([ -1.86256172,   8.70489065,   5.10426375,  -2.89875799,\n",
              "        -1.28642985,   5.24343682,   6.04480276,  -0.14701495,\n",
              "        -0.21566628,  -0.7897201 ,   1.80813117,   0.80914508,\n",
              "        -0.61262382,   0.26816203,   0.27172387,  -0.36530729,\n",
              "        19.2186222 , -31.16586592,   8.98369938])"
            ]
          },
          "metadata": {},
          "execution_count": 5
        }
      ]
    },
    {
      "cell_type": "code",
      "metadata": {
        "colab": {
          "base_uri": "https://localhost:8080/"
        },
        "id": "e2NiPxlXYipY",
        "outputId": "cfdc3fd7-5c33-4db1-aee1-d88281e2627c"
      },
      "source": [
        "enet_model.intercept_"
      ],
      "execution_count": 6,
      "outputs": [
        {
          "output_type": "execute_result",
          "data": {
            "text/plain": [
              "-6.46595560211199"
            ]
          },
          "metadata": {},
          "execution_count": 6
        }
      ]
    },
    {
      "cell_type": "markdown",
      "metadata": {
        "id": "PaumGjClYnY4"
      },
      "source": [
        "##Model tahmin"
      ]
    },
    {
      "cell_type": "code",
      "metadata": {
        "colab": {
          "base_uri": "https://localhost:8080/"
        },
        "id": "SXE7J-S9Ykv4",
        "outputId": "1e7ac563-3a3f-40c8-ad8b-337c8725d9ce"
      },
      "source": [
        "enet_model.predict(X_test)"
      ],
      "execution_count": 7,
      "outputs": [
        {
          "output_type": "execute_result",
          "data": {
            "text/plain": [
              "array([ 577.79111731,  617.33202224, 1031.39113156,  364.95861575,\n",
              "        489.51894393,  300.74185842,  604.522666  ,  465.34678732,\n",
              "        901.44473965,  703.20357123,  702.9157117 ,  931.50283407,\n",
              "        184.87939803,  385.14973787,  325.38944176,  546.99346574,\n",
              "        774.28001821,  101.83114992, 1250.86758812,  370.67651244,\n",
              "        442.05734523,  781.17288513,  578.63736538,  609.31927808,\n",
              "        608.31719597,  227.46556223,  921.85505228,  301.1202457 ,\n",
              "        386.31721051,  133.61143326,  162.28505608,   88.29793182,\n",
              "        359.9068418 ,  422.51268445,  265.8663769 ,  355.70450908,\n",
              "       1329.36312363,  125.05506935,   82.74580002,  269.17483075,\n",
              "        117.13319397,  274.13484779,  648.4957249 ,  409.47065999,\n",
              "        846.27919406,  712.04817644,  341.10596674,  368.24259678,\n",
              "        305.70477656,  680.05724792,  716.13640636,  295.93204262,\n",
              "        773.06445823,  249.28224916,  221.46794589,  541.2713245 ,\n",
              "        611.50212372,  770.80228024,  168.45143906, 1159.05660731,\n",
              "       1655.73440058,  487.79019015, 1013.23932071,  443.91500502,\n",
              "        613.83293616,  152.85401115])"
            ]
          },
          "metadata": {},
          "execution_count": 7
        }
      ]
    },
    {
      "cell_type": "code",
      "metadata": {
        "id": "9UZGQFU5Yts4"
      },
      "source": [
        "y_tahmin = enet_model.predict(X_test)"
      ],
      "execution_count": 8,
      "outputs": []
    },
    {
      "cell_type": "code",
      "metadata": {
        "colab": {
          "base_uri": "https://localhost:8080/"
        },
        "id": "v97IRxZ1Y09N",
        "outputId": "3427b9fd-eb9a-4af6-8109-38d0b9e63ed1"
      },
      "source": [
        "np.sqrt(mean_squared_error(y_test, y_tahmin))"
      ],
      "execution_count": 9,
      "outputs": [
        {
          "output_type": "execute_result",
          "data": {
            "text/plain": [
              "357.16765481812445"
            ]
          },
          "metadata": {},
          "execution_count": 9
        }
      ]
    },
    {
      "cell_type": "code",
      "metadata": {
        "colab": {
          "base_uri": "https://localhost:8080/"
        },
        "id": "61v-ox22Y7Ze",
        "outputId": "9a059ee6-3125-4ad3-df7f-2913831ac9d9"
      },
      "source": [
        "r2_score(y_test, y_tahmin)"
      ],
      "execution_count": 11,
      "outputs": [
        {
          "output_type": "execute_result",
          "data": {
            "text/plain": [
              "0.4107022246932692"
            ]
          },
          "metadata": {},
          "execution_count": 11
        }
      ]
    },
    {
      "cell_type": "markdown",
      "metadata": {
        "id": "mKT-23AMZC8q"
      },
      "source": [
        "##Model ayarı yapma"
      ]
    },
    {
      "cell_type": "code",
      "metadata": {
        "id": "hEAwQB4OY-JN"
      },
      "source": [
        "from sklearn.linear_model import ElasticNetCV"
      ],
      "execution_count": 12,
      "outputs": []
    },
    {
      "cell_type": "code",
      "metadata": {
        "id": "IQWrS7rkZJNa"
      },
      "source": [
        "enet_cv_model = ElasticNetCV(cv = 10, random_state= 0).fit(X_train,y_train)"
      ],
      "execution_count": 13,
      "outputs": []
    },
    {
      "cell_type": "code",
      "metadata": {
        "colab": {
          "base_uri": "https://localhost:8080/"
        },
        "id": "cTzv44faZSL3",
        "outputId": "a0138092-e76c-4228-9485-f0fe9e188419"
      },
      "source": [
        "enet_cv_model.alpha_"
      ],
      "execution_count": 15,
      "outputs": [
        {
          "output_type": "execute_result",
          "data": {
            "text/plain": [
              "5230.7647364798695"
            ]
          },
          "metadata": {},
          "execution_count": 15
        }
      ]
    },
    {
      "cell_type": "code",
      "metadata": {
        "id": "T-5xezZRZWev"
      },
      "source": [
        "enet_ayar = ElasticNet(alpha = enet_cv_model.alpha_).fit(X_train,y_train)"
      ],
      "execution_count": 17,
      "outputs": []
    },
    {
      "cell_type": "code",
      "metadata": {
        "id": "F3FQxpmHZfLc"
      },
      "source": [
        "y_tahmin = enet_ayar.predict(X_test)"
      ],
      "execution_count": 18,
      "outputs": []
    },
    {
      "cell_type": "code",
      "metadata": {
        "colab": {
          "base_uri": "https://localhost:8080/"
        },
        "id": "SYCR9r9RZi5I",
        "outputId": "aa322190-640b-4fd0-f031-8d4f31faa1d4"
      },
      "source": [
        "np.sqrt(mean_squared_error(y_test, y_tahmin))"
      ],
      "execution_count": 19,
      "outputs": [
        {
          "output_type": "execute_result",
          "data": {
            "text/plain": [
              "394.15280563218795"
            ]
          },
          "metadata": {},
          "execution_count": 19
        }
      ]
    },
    {
      "cell_type": "code",
      "metadata": {
        "id": "7UArypgcZo9j"
      },
      "source": [
        ""
      ],
      "execution_count": null,
      "outputs": []
    }
  ]
}